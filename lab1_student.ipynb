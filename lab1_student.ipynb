{
 "cells": [
  {
   "cell_type": "markdown",
   "metadata": {},
   "source": [
    "# LAB1 - Regresja"
   ]
  },
  {
   "cell_type": "markdown",
   "metadata": {},
   "source": [
    "Przedmiot: _Sztuczna Inteligencja w Systemach Informatycznych_\n",
    "\n",
    "Autor: Tomasz Szydło\n",
    "\n",
    "kontakt: tszydlo@agh.edu.pl\n"
   ]
  },
  {
   "cell_type": "markdown",
   "metadata": {},
   "source": [
    "_wersja dokumentu uzupełniana przez studenta_"
   ]
  },
  {
   "cell_type": "markdown",
   "metadata": {},
   "source": [
    "# Wprowadzenie\n",
    "\n",
    "Regresja liniowa w modelowaniu statystycznym odnosi się do metod opartych o liniowe kombinacje zmiennych i parametrów dopasowujących model do danych. Dopasowana linia lub krzywa regresji reprezentuje oszacowaną wartość oczekiwaną zmiennej y przy konkretnych wartościach innej zmiennej lub zmiennych x. W najprostszym przypadku dopasowana jest stała lub funkcja liniowa.\n",
    "\n",
    "Celem zajęć jest identyfikacja modelu regresji dla problemu czasu obliczeń złożonych operacji matematycznych na CPU. Czas obliczeń zależy głównie od mocy obliczeniowej procesora.\n",
    "\n",
    "Środowisko pracy: Anaconda, Jupyter Notebook\n",
    "\n",
    "Narzędzia: Scikit Learn, Python"
   ]
  },
  {
   "cell_type": "markdown",
   "metadata": {},
   "source": [
    "# Regresja - przykład\n",
    "\n",
    "Sposób identyfikacji modelu regresji z wykorzystaniem narzędzi programistycznych przedstawia przykład dla danych dotyczacych cukrzycy:\n",
    "\n",
    "https://archive.ics.uci.edu/ml/datasets/diabetes\n",
    "\n",
    "```\n",
    "Source:\n",
    "\n",
    "Michael Kahn, MD, PhD, Washington University, St. Louis, MO\n",
    "\n",
    "Data Set Information:\n",
    "\n",
    "Diabetes patient records were obtained from two sources: an automatic electronic recording device and paper records. The automatic device had an internal clock to timestamp events, whereas the paper records only provided \"logical time\" slots (breakfast, lunch, dinner, bedtime). For paper records, fixed times were assigned to breakfast (08:00), lunch (12:00), dinner (18:00), and bedtime (22:00). Thus paper records have fictitious uniform recording times whereas electronic records have more realistic time stamps.\n",
    "\n",
    "Diabetes files consist of four fields per record. Each field is separated by a tab and each record is separated by a newline.\n",
    "\n",
    "File Names and format:\n",
    " * (1) Date in MM-DD-YYYY format\n",
    " * (2) Time in XX:YY format\n",
    " * (3) Code\n",
    " * (4) Value\n",
    "\n",
    "\n",
    "The Code field is deciphered as follows:\n",
    " * 33 = Regular insulin dose\n",
    " * 34 = NPH insulin dose\n",
    " * 35 = UltraLente insulin dose\n",
    " * 48 = Unspecified blood glucose measurement\n",
    " * 57 = Unspecified blood glucose measurement\n",
    " * 58 = Pre-breakfast blood glucose measurement\n",
    " * 59 = Post-breakfast blood glucose measurement\n",
    " * 60 = Pre-lunch blood glucose measurement\n",
    " * 61 = Post-lunch blood glucose measurement\n",
    " * 62 = Pre-supper blood glucose measurement\n",
    " * 63 = Post-supper blood glucose measurement\n",
    " * 64 = Pre-snack blood glucose measurement\n",
    " * 65 = Hypoglycemic symptoms\n",
    " * 66 = Typical meal ingestion\n",
    " * 67 = More-than-usual meal ingestion\n",
    " * 68 = Less-than-usual meal ingestion\n",
    " * 69 = Typical exercise activity\n",
    " * 70 = More-than-usual exercise activity\n",
    " * 71 = Less-than-usual exercise activity\n",
    " * 72 = Unspecified special event\n",
    "```\n",
    "\n",
    "W przykładzie zastosowano pierwszą cechę zestawu danych dotyczących cukrzycy, aby zilustrować metodę regresji. Końcowy wykres zawierał będzie zarówno dane źródłowe jak i wykres funkcji liniowej zidentyfikowanej za pomocą regresji. Funkcja liniowa przedstawia zależność pomiędzy danymi wejściowymi a wyjściowymi minimalizując sumę kwadratów pomiędzy poszczególnymi parami punktów.\n",
    "\n",
    "\n",
    "Obliczane są również współczynniki oraz błąd modelu."
   ]
  },
  {
   "cell_type": "code",
   "execution_count": 16,
   "metadata": {},
   "outputs": [],
   "source": [
    "import matplotlib.pyplot as plt\n",
    "import numpy as np\n",
    "from sklearn import datasets, linear_model\n",
    "from sklearn.metrics import mean_squared_error, r2_score"
   ]
  },
  {
   "cell_type": "code",
   "execution_count": 17,
   "metadata": {},
   "outputs": [],
   "source": [
    "# Load the diabetes dataset\n",
    "diabetes = datasets.load_diabetes()"
   ]
  },
  {
   "cell_type": "code",
   "execution_count": 18,
   "metadata": {},
   "outputs": [],
   "source": [
    "# Use only one feature\n",
    "diabetes_X = diabetes.data[:, np.newaxis, 2]\n",
    "\n",
    "# Split the data into training/testing sets\n",
    "diabetes_X_train = diabetes_X[:-20]\n",
    "diabetes_X_test = diabetes_X[-20:]\n",
    "\n",
    "# Split the targets into training/testing sets\n",
    "diabetes_y_train = diabetes.target[:-20]\n",
    "diabetes_y_test = diabetes.target[-20:]"
   ]
  },
  {
   "cell_type": "code",
   "execution_count": 19,
   "metadata": {},
   "outputs": [
    {
     "data": {
      "text/html": [
       "<style>#sk-container-id-3 {color: black;background-color: white;}#sk-container-id-3 pre{padding: 0;}#sk-container-id-3 div.sk-toggleable {background-color: white;}#sk-container-id-3 label.sk-toggleable__label {cursor: pointer;display: block;width: 100%;margin-bottom: 0;padding: 0.3em;box-sizing: border-box;text-align: center;}#sk-container-id-3 label.sk-toggleable__label-arrow:before {content: \"▸\";float: left;margin-right: 0.25em;color: #696969;}#sk-container-id-3 label.sk-toggleable__label-arrow:hover:before {color: black;}#sk-container-id-3 div.sk-estimator:hover label.sk-toggleable__label-arrow:before {color: black;}#sk-container-id-3 div.sk-toggleable__content {max-height: 0;max-width: 0;overflow: hidden;text-align: left;background-color: #f0f8ff;}#sk-container-id-3 div.sk-toggleable__content pre {margin: 0.2em;color: black;border-radius: 0.25em;background-color: #f0f8ff;}#sk-container-id-3 input.sk-toggleable__control:checked~div.sk-toggleable__content {max-height: 200px;max-width: 100%;overflow: auto;}#sk-container-id-3 input.sk-toggleable__control:checked~label.sk-toggleable__label-arrow:before {content: \"▾\";}#sk-container-id-3 div.sk-estimator input.sk-toggleable__control:checked~label.sk-toggleable__label {background-color: #d4ebff;}#sk-container-id-3 div.sk-label input.sk-toggleable__control:checked~label.sk-toggleable__label {background-color: #d4ebff;}#sk-container-id-3 input.sk-hidden--visually {border: 0;clip: rect(1px 1px 1px 1px);clip: rect(1px, 1px, 1px, 1px);height: 1px;margin: -1px;overflow: hidden;padding: 0;position: absolute;width: 1px;}#sk-container-id-3 div.sk-estimator {font-family: monospace;background-color: #f0f8ff;border: 1px dotted black;border-radius: 0.25em;box-sizing: border-box;margin-bottom: 0.5em;}#sk-container-id-3 div.sk-estimator:hover {background-color: #d4ebff;}#sk-container-id-3 div.sk-parallel-item::after {content: \"\";width: 100%;border-bottom: 1px solid gray;flex-grow: 1;}#sk-container-id-3 div.sk-label:hover label.sk-toggleable__label {background-color: #d4ebff;}#sk-container-id-3 div.sk-serial::before {content: \"\";position: absolute;border-left: 1px solid gray;box-sizing: border-box;top: 0;bottom: 0;left: 50%;z-index: 0;}#sk-container-id-3 div.sk-serial {display: flex;flex-direction: column;align-items: center;background-color: white;padding-right: 0.2em;padding-left: 0.2em;position: relative;}#sk-container-id-3 div.sk-item {position: relative;z-index: 1;}#sk-container-id-3 div.sk-parallel {display: flex;align-items: stretch;justify-content: center;background-color: white;position: relative;}#sk-container-id-3 div.sk-item::before, #sk-container-id-3 div.sk-parallel-item::before {content: \"\";position: absolute;border-left: 1px solid gray;box-sizing: border-box;top: 0;bottom: 0;left: 50%;z-index: -1;}#sk-container-id-3 div.sk-parallel-item {display: flex;flex-direction: column;z-index: 1;position: relative;background-color: white;}#sk-container-id-3 div.sk-parallel-item:first-child::after {align-self: flex-end;width: 50%;}#sk-container-id-3 div.sk-parallel-item:last-child::after {align-self: flex-start;width: 50%;}#sk-container-id-3 div.sk-parallel-item:only-child::after {width: 0;}#sk-container-id-3 div.sk-dashed-wrapped {border: 1px dashed gray;margin: 0 0.4em 0.5em 0.4em;box-sizing: border-box;padding-bottom: 0.4em;background-color: white;}#sk-container-id-3 div.sk-label label {font-family: monospace;font-weight: bold;display: inline-block;line-height: 1.2em;}#sk-container-id-3 div.sk-label-container {text-align: center;}#sk-container-id-3 div.sk-container {/* jupyter's `normalize.less` sets `[hidden] { display: none; }` but bootstrap.min.css set `[hidden] { display: none !important; }` so we also need the `!important` here to be able to override the default hidden behavior on the sphinx rendered scikit-learn.org. See: https://github.com/scikit-learn/scikit-learn/issues/21755 */display: inline-block !important;position: relative;}#sk-container-id-3 div.sk-text-repr-fallback {display: none;}</style><div id=\"sk-container-id-3\" class=\"sk-top-container\"><div class=\"sk-text-repr-fallback\"><pre>LinearRegression()</pre><b>In a Jupyter environment, please rerun this cell to show the HTML representation or trust the notebook. <br />On GitHub, the HTML representation is unable to render, please try loading this page with nbviewer.org.</b></div><div class=\"sk-container\" hidden><div class=\"sk-item\"><div class=\"sk-estimator sk-toggleable\"><input class=\"sk-toggleable__control sk-hidden--visually\" id=\"sk-estimator-id-3\" type=\"checkbox\" checked><label for=\"sk-estimator-id-3\" class=\"sk-toggleable__label sk-toggleable__label-arrow\">LinearRegression</label><div class=\"sk-toggleable__content\"><pre>LinearRegression()</pre></div></div></div></div></div>"
      ],
      "text/plain": [
       "LinearRegression()"
      ]
     },
     "execution_count": 19,
     "metadata": {},
     "output_type": "execute_result"
    }
   ],
   "source": [
    "# Create linear regression object\n",
    "regr = linear_model.LinearRegression()\n",
    "\n",
    "# Train the model using the training sets\n",
    "regr.fit(diabetes_X_train, diabetes_y_train)\n"
   ]
  },
  {
   "cell_type": "code",
   "execution_count": 20,
   "metadata": {},
   "outputs": [
    {
     "name": "stdout",
     "output_type": "stream",
     "text": [
      "Coefficients: \n",
      " [938.23786125]\n",
      "Intercept: \n",
      " 152.91886182616113\n",
      "Mean squared error: 2548.07\n",
      "Variance score: 0.47\n"
     ]
    }
   ],
   "source": [
    "# Make predictions using the testing set\n",
    "diabetes_y_pred = regr.predict(diabetes_X_test)\n",
    "\n",
    "# The coefficients\n",
    "print('Coefficients: \\n', regr.coef_)\n",
    "print('Intercept: \\n', regr.intercept_)\n",
    "# The mean squared error\n",
    "print(\"Mean squared error: %.2f\"\n",
    "      % mean_squared_error(diabetes_y_test, diabetes_y_pred))\n",
    "# Explained variance score: 1 is perfect prediction\n",
    "print('Variance score: %.2f' % r2_score(diabetes_y_test, diabetes_y_pred))"
   ]
  },
  {
   "cell_type": "code",
   "execution_count": 21,
   "metadata": {},
   "outputs": [
    {
     "data": {
      "image/png": "[encoded data removed]",
      "text/plain": [
       "<Figure size 640x480 with 1 Axes>"
      ]
     },
     "metadata": {},
     "output_type": "display_data"
    }
   ],
   "source": [
    "# Plot outputs\n",
    "plt.scatter(diabetes_X_test, diabetes_y_test,  color='black')\n",
    "plt.plot(diabetes_X_test, diabetes_y_pred, color='blue', linewidth=3)\n",
    "\n",
    "#plt.xticks(())\n",
    "#plt.yticks(())\n",
    "\n",
    "plt.show()"
   ]
  },
  {
   "cell_type": "markdown",
   "metadata": {},
   "source": [
    "## Regresja - przewidywanie czasu wykonania operacji\n",
    "\n",
    "W systemie komputerowym istnieją dwa procesy obliczeniowe: io\\_heavy oraz cpu\\_heavy charakteryzujące się tym, że w pierszym przypadku czas wykonania jest głównie zależny od dostępu do urządzeń IO, a w drugim przypadku od szybkości procesora."
   ]
  },
  {
   "cell_type": "code",
   "execution_count": 22,
   "metadata": {},
   "outputs": [],
   "source": [
    "import random\n",
    "import string\n",
    "import time\n",
    "\n",
    "def io_heavy(text):\n",
    "    f = open('temp_file.txt', 'wt', encoding='utf-8')\n",
    "    f.write(text)\n",
    "    f.close()\n",
    "    return\n",
    "\n",
    "def cpu_heavy(n):\n",
    "    start = time.time()\n",
    "    count = 0\n",
    "    for i in range(n):\n",
    "        count += i\n",
    "    stop = time.time()\n",
    "    return\n",
    "\n",
    "def run_series_cpu(n, iterations):\n",
    "    start = time.time()\n",
    "    for i in range(iterations):\n",
    "        cpu_heavy(n)\n",
    "    stop = time.time()\n",
    "    \n",
    "    return stop - start\n",
    "\n",
    "def run_series(text_size, iterations):\n",
    "    TEXT = ''.join(random.choice(string.ascii_lowercase) for i in range(text_size))\n",
    "    \n",
    "    start = time.time()\n",
    "    for i in range(iterations):\n",
    "        io_heavy(TEXT)\n",
    "    stop = time.time()\n",
    "    \n",
    "    return stop - start"
   ]
  },
  {
   "cell_type": "markdown",
   "metadata": {},
   "source": [
    "Czas obliczeń operacji jest ściśle zależny od mocy obliczeniowej komputera, na którym są one wykonywane."
   ]
  },
  {
   "cell_type": "markdown",
   "metadata": {},
   "source": [
    "**TODO** _Opisz specyfikację komputera na którym prowadzone są testy._  -> Procesor: 11th Gen Intel(R) Core(TM) i5-1135G7 @ 2.40GHz 2.42 GHzs. Typ systemu: 64-bitowy system operacyjny, procesor x64 Pamięć RAM: 16 GB"
   ]
  },
  {
   "cell_type": "markdown",
   "metadata": {},
   "source": [
    "Uzupełnij poniższy kod tak by zebrać czasy wykonania operacji *cpu\\_heavy* dla różnych n. Wyniki powinny być zapisane w tablicach *training_x* oraz *training_y*.\n",
    "\n",
    "Korzystamy z funkcji *run\\_series\\_cpu(n)*.\n",
    "\n",
    "TRAINING_N - ilość danych uczących; długość tablic *training_x* oraz *training_y*.\n"
   ]
  },
  {
   "cell_type": "code",
   "execution_count": 23,
   "metadata": {},
   "outputs": [],
   "source": [
    "CPU_MAX_N = 1000000\n",
    "\n",
    "TRAINING_N = 50\n",
    "\n",
    "training_X = []\n",
    "training_y = []\n",
    "\n",
    "for i in range(TRAINING_N):\n",
    "    CPU_N = random.randrange(CPU_MAX_N)\n",
    "    training_X.append(CPU_N)\n",
    "    training_y.append(run_series_cpu(CPU_N, 10))"
   ]
  },
  {
   "cell_type": "markdown",
   "metadata": {},
   "source": [
    "Przedstaw wykres zależności pomiędzy ilością iteracji obliczeń a czasem wykonania operacji *run\\_series\\_cpu*."
   ]
  },
  {
   "cell_type": "code",
   "execution_count": 24,
   "metadata": {},
   "outputs": [
    {
     "data": {
      "image/png": "[encoded data removed]",
      "text/plain": [
       "<Figure size 640x480 with 1 Axes>"
      ]
     },
     "metadata": {},
     "output_type": "display_data"
    }
   ],
   "source": [
    "plt.scatter(training_X,training_y, color='black')\n",
    "plt.show()"
   ]
  },
  {
   "cell_type": "markdown",
   "metadata": {},
   "source": [
    "Naucz model regresji na danych treningowych."
   ]
  },
  {
   "cell_type": "code",
   "execution_count": 25,
   "metadata": {},
   "outputs": [
    {
     "data": {
      "text/html": [
       "<style>#sk-container-id-4 {color: black;background-color: white;}#sk-container-id-4 pre{padding: 0;}#sk-container-id-4 div.sk-toggleable {background-color: white;}#sk-container-id-4 label.sk-toggleable__label {cursor: pointer;display: block;width: 100%;margin-bottom: 0;padding: 0.3em;box-sizing: border-box;text-align: center;}#sk-container-id-4 label.sk-toggleable__label-arrow:before {content: \"▸\";float: left;margin-right: 0.25em;color: #696969;}#sk-container-id-4 label.sk-toggleable__label-arrow:hover:before {color: black;}#sk-container-id-4 div.sk-estimator:hover label.sk-toggleable__label-arrow:before {color: black;}#sk-container-id-4 div.sk-toggleable__content {max-height: 0;max-width: 0;overflow: hidden;text-align: left;background-color: #f0f8ff;}#sk-container-id-4 div.sk-toggleable__content pre {margin: 0.2em;color: black;border-radius: 0.25em;background-color: #f0f8ff;}#sk-container-id-4 input.sk-toggleable__control:checked~div.sk-toggleable__content {max-height: 200px;max-width: 100%;overflow: auto;}#sk-container-id-4 input.sk-toggleable__control:checked~label.sk-toggleable__label-arrow:before {content: \"▾\";}#sk-container-id-4 div.sk-estimator input.sk-toggleable__control:checked~label.sk-toggleable__label {background-color: #d4ebff;}#sk-container-id-4 div.sk-label input.sk-toggleable__control:checked~label.sk-toggleable__label {background-color: #d4ebff;}#sk-container-id-4 input.sk-hidden--visually {border: 0;clip: rect(1px 1px 1px 1px);clip: rect(1px, 1px, 1px, 1px);height: 1px;margin: -1px;overflow: hidden;padding: 0;position: absolute;width: 1px;}#sk-container-id-4 div.sk-estimator {font-family: monospace;background-color: #f0f8ff;border: 1px dotted black;border-radius: 0.25em;box-sizing: border-box;margin-bottom: 0.5em;}#sk-container-id-4 div.sk-estimator:hover {background-color: #d4ebff;}#sk-container-id-4 div.sk-parallel-item::after {content: \"\";width: 100%;border-bottom: 1px solid gray;flex-grow: 1;}#sk-container-id-4 div.sk-label:hover label.sk-toggleable__label {background-color: #d4ebff;}#sk-container-id-4 div.sk-serial::before {content: \"\";position: absolute;border-left: 1px solid gray;box-sizing: border-box;top: 0;bottom: 0;left: 50%;z-index: 0;}#sk-container-id-4 div.sk-serial {display: flex;flex-direction: column;align-items: center;background-color: white;padding-right: 0.2em;padding-left: 0.2em;position: relative;}#sk-container-id-4 div.sk-item {position: relative;z-index: 1;}#sk-container-id-4 div.sk-parallel {display: flex;align-items: stretch;justify-content: center;background-color: white;position: relative;}#sk-container-id-4 div.sk-item::before, #sk-container-id-4 div.sk-parallel-item::before {content: \"\";position: absolute;border-left: 1px solid gray;box-sizing: border-box;top: 0;bottom: 0;left: 50%;z-index: -1;}#sk-container-id-4 div.sk-parallel-item {display: flex;flex-direction: column;z-index: 1;position: relative;background-color: white;}#sk-container-id-4 div.sk-parallel-item:first-child::after {align-self: flex-end;width: 50%;}#sk-container-id-4 div.sk-parallel-item:last-child::after {align-self: flex-start;width: 50%;}#sk-container-id-4 div.sk-parallel-item:only-child::after {width: 0;}#sk-container-id-4 div.sk-dashed-wrapped {border: 1px dashed gray;margin: 0 0.4em 0.5em 0.4em;box-sizing: border-box;padding-bottom: 0.4em;background-color: white;}#sk-container-id-4 div.sk-label label {font-family: monospace;font-weight: bold;display: inline-block;line-height: 1.2em;}#sk-container-id-4 div.sk-label-container {text-align: center;}#sk-container-id-4 div.sk-container {/* jupyter's `normalize.less` sets `[hidden] { display: none; }` but bootstrap.min.css set `[hidden] { display: none !important; }` so we also need the `!important` here to be able to override the default hidden behavior on the sphinx rendered scikit-learn.org. See: https://github.com/scikit-learn/scikit-learn/issues/21755 */display: inline-block !important;position: relative;}#sk-container-id-4 div.sk-text-repr-fallback {display: none;}</style><div id=\"sk-container-id-4\" class=\"sk-top-container\"><div class=\"sk-text-repr-fallback\"><pre>LinearRegression()</pre><b>In a Jupyter environment, please rerun this cell to show the HTML representation or trust the notebook. <br />On GitHub, the HTML representation is unable to render, please try loading this page with nbviewer.org.</b></div><div class=\"sk-container\" hidden><div class=\"sk-item\"><div class=\"sk-estimator sk-toggleable\"><input class=\"sk-toggleable__control sk-hidden--visually\" id=\"sk-estimator-id-4\" type=\"checkbox\" checked><label for=\"sk-estimator-id-4\" class=\"sk-toggleable__label sk-toggleable__label-arrow\">LinearRegression</label><div class=\"sk-toggleable__content\"><pre>LinearRegression()</pre></div></div></div></div></div>"
      ],
      "text/plain": [
       "LinearRegression()"
      ]
     },
     "execution_count": 25,
     "metadata": {},
     "output_type": "execute_result"
    }
   ],
   "source": [
    "regr = linear_model.LinearRegression()\n",
    "training_X=np.array(training_X).reshape(-1, 1)\n",
    "training_y=np.array(training_y).reshape(-1, 1)\n",
    "training_X\n",
    "# training_y\n",
    "regr.fit(training_X, training_y)\n"
   ]
  },
  {
   "cell_type": "markdown",
   "metadata": {},
   "source": [
    "Wypisz szczegóły nauczonego modelu regresji, a następnie przedstaw na wykresie zidentyfikowana funkcję liniową odzwierciedlającą zależności w danych."
   ]
  },
  {
   "cell_type": "code",
   "execution_count": 26,
   "metadata": {},
   "outputs": [
    {
     "name": "stdout",
     "output_type": "stream",
     "text": [
      "Coefficients: \n",
      " [[4.50090256e-07]]\n",
      "Intercept: \n",
      " [0.00249205]\n",
      "Mean squared error: 0.00\n",
      "Variance score: 0.94\n"
     ]
    },
    {
     "data": {
      "image/png": "[encoded data removed]",
      "text/plain": [
       "<Figure size 640x480 with 1 Axes>"
      ]
     },
     "metadata": {},
     "output_type": "display_data"
    }
   ],
   "source": [
    "# Make predictions using the testing set\n",
    "training_y_pred = regr.predict(training_X)\n",
    "\n",
    "# The coefficients\n",
    "print('Coefficients: \\n', regr.coef_)\n",
    "print('Intercept: \\n', regr.intercept_)\n",
    "# The mean squared error\n",
    "print(\"Mean squared error: %.2f\"\n",
    "      % mean_squared_error(training_y, training_y_pred))\n",
    "# Explained variance score: 1 is perfect prediction\n",
    "print('Variance score: %.2f' % r2_score(training_y, training_y_pred))\n",
    "\n",
    "\n",
    "plt.scatter(training_X, training_y,  color='black')\n",
    "plt.plot(training_X, training_y_pred, color='blue', linewidth=3)\n",
    "plt.show()"
   ]
  },
  {
   "cell_type": "markdown",
   "metadata": {},
   "source": [
    "Na podstawie opracowanego modelu zaimplementuj funkcję szacującą czas działania procesu *cpu intensive*."
   ]
  },
  {
   "cell_type": "code",
   "execution_count": 27,
   "metadata": {},
   "outputs": [
    {
     "data": {
      "text/plain": [
       "array([[0.00253705]])"
      ]
     },
     "execution_count": 27,
     "metadata": {},
     "output_type": "execute_result"
    }
   ],
   "source": [
    "#testing data\n",
    "\n",
    "def run_series_cpu_predicted_time(n):\n",
    "    return regr.predict([[n]])\n",
    "\n",
    "run_series_cpu_predicted_time(100)\n"
   ]
  },
  {
   "cell_type": "markdown",
   "metadata": {},
   "source": [
    "Na podstawie współczynników _coef_ oraz _intercept_  z wyuczonego modelu przedstaw funkcję matematyczną szacującą czas działania procesu *cpu intensive*.\n",
    "\n",
    "Przydatne informacje: https://scikit-learn.org/stable/modules/linear_model.html#linear-model"
   ]
  },
  {
   "cell_type": "code",
   "execution_count": 28,
   "metadata": {},
   "outputs": [
    {
     "name": "stdout",
     "output_type": "stream",
     "text": [
      "Coefficient: \n",
      " 4.5009025576706573e-07\n",
      "Intercept: \n",
      " 0.00249204542275161\n"
     ]
    }
   ],
   "source": [
    "coef = regr.coef_[0][0]\n",
    "intercept = regr.intercept_[0]\n",
    "\n",
    "print('Coefficient: \\n', coef)\n",
    "print('Intercept: \\n', intercept)"
   ]
  },
  {
   "cell_type": "markdown",
   "metadata": {},
   "source": [
    "**TODO** Uzupełnij funkcję\n",
    "\n",
    "predicted_time(n) = ... + ...  * n"
   ]
  },
  {
   "cell_type": "code",
   "execution_count": 29,
   "metadata": {},
   "outputs": [],
   "source": [
    "def run_series_cpu_predicted_time_linear_function(n):\n",
    "    return coef *n + intercept"
   ]
  },
  {
   "cell_type": "markdown",
   "metadata": {},
   "source": [
    "Wykonaj poniższe operacje i porównaj wyniki."
   ]
  },
  {
   "cell_type": "code",
   "execution_count": 30,
   "metadata": {},
   "outputs": [
    {
     "name": "stdout",
     "output_type": "stream",
     "text": [
      "Test 1:  1.8988556861877441  Predicted: [[1.81725731]]  Predicted2: 1.817257306946328\n",
      "Test 2:  0.0227816104888916  Predicted: [[0.02693195]]  Predicted2: 0.02693194631090328\n",
      "Test 3:  0.4603886604309082  Predicted: [[0.34699248]]  Predicted2: 0.346992477457631\n",
      "Test 4:  0.030974388122558594  Predicted: [[0.04060254]]  Predicted2: 0.040602537649316366\n",
      "Test 5:  2.3888158798217773  Predicted: [[2.44944103]]  Predicted2: 2.449441027579331\n"
     ]
    }
   ],
   "source": [
    "print(\"Test 1: \",run_series_cpu(4032003,10),\" Predicted:\", run_series_cpu_predicted_time(4032003),\" Predicted2:\", run_series_cpu_predicted_time_linear_function(4032003))\n",
    "print(\"Test 2: \",run_series_cpu(54300,10),\" Predicted:\", run_series_cpu_predicted_time(54300),\" Predicted2:\", run_series_cpu_predicted_time_linear_function(54300))\n",
    "print(\"Test 3: \",run_series_cpu(765403,10),\" Predicted:\", run_series_cpu_predicted_time(765403),\" Predicted2:\", run_series_cpu_predicted_time_linear_function(765403))\n",
    "print(\"Test 4: \",run_series_cpu(84673,10),\" Predicted:\", run_series_cpu_predicted_time(84673),\" Predicted2:\", run_series_cpu_predicted_time_linear_function(84673))\n",
    "print(\"Test 5: \",run_series_cpu(5436574,10),\" Predicted:\", run_series_cpu_predicted_time(5436574),\" Predicted2:\", run_series_cpu_predicted_time_linear_function(5436574))\n"
   ]
  },
  {
   "cell_type": "markdown",
   "metadata": {},
   "source": [
    "Uzyskane wyniki są bliskie rzeczywistym (występują niewielkie różnice)\n"
   ]
  },
  {
   "cell_type": "markdown",
   "metadata": {},
   "source": [
    "# Przydatne źródła\n",
    "\n",
    "https://github.com/bfortuner/ml-study/blob/master/multitasking_python.ipynb"
   ]
  }
 ],
 "metadata": {
  "kernelspec": {
   "display_name": "Python 3 (ipykernel)",
   "language": "python",
   "name": "python3"
  },
  "language_info": {
   "codemirror_mode": {
    "name": "ipython",
    "version": 3
   },
   "file_extension": ".py",
   "mimetype": "text/x-python",
   "name": "python",
   "nbconvert_exporter": "python",
   "pygments_lexer": "ipython3",
   "version": "3.11.7"
  }
 },
 "nbformat": 4,
 "nbformat_minor": 4
}
