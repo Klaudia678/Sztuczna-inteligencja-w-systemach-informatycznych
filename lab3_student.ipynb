{
 "cells": [
  {
   "cell_type": "markdown",
   "metadata": {
    "id": "fs1IGQZELwru"
   },
   "source": [
    "# LAB3 - Uczenie sieci neuronowych z wykorzystaniem GPU\n",
    "ver: 6"
   ]
  },
  {
   "cell_type": "markdown",
   "metadata": {
    "id": "yS56lpyELwry"
   },
   "source": [
    "Przedmiot: _Sztuczna Inteligencja w Systemach Informatycznych_\n",
    "\n",
    "Autor: Tomasz Szydło\n",
    "\n",
    "kontakt: tszydlo@agh.edu.pl"
   ]
  },
  {
   "cell_type": "markdown",
   "metadata": {
    "id": "AZ_S41L3Lwr6"
   },
   "source": [
    "Celem laboratorium jest porównanie czasu uczenia sieci neuronowych z wykorzystaniem CPU oraz GPU. Przedmiotem uczenia będzie sieć rozpoznająca cyfry pisane odręcznie. W procesie uczenia zostanie wykorzystany zbiór MNIST:\n",
    "\n",
    "http://yann.lecun.com/exdb/mnist/\n",
    "\n",
    "\n",
    "Laboratorium może być zrealizowane w dwóch środowiskach pracy:\n",
    " * Google Colab w chmurze obliczeniowej;\n",
    " * lokalnie na komputerze wyposażonym w GPU.\n"
   ]
  },
  {
   "cell_type": "markdown",
   "metadata": {
    "id": "IpmQdcI4FZ1L"
   },
   "source": [
    "## Środowisko pracy - Google Codelab\n",
    "\n",
    "https://codelabs.developers.google.com/?cat=Machine+Learning\n",
    "\n",
    "Dostęp do notatnika: https://colab.research.google.com\n",
    "\n",
    "Włączenie/wyłączenie wsparcia GPU odbywa się poprzez zmianę opcji środowiska uruchomieniowego:\n",
    " * Runtime -> Change runtime type -> Hardware accelerator -> None/GPU\n"
   ]
  },
  {
   "cell_type": "markdown",
   "metadata": {
    "id": "e1Q7W6I1FsVO"
   },
   "source": [
    "## Środowisko pracy - PC + GPU/CUDA + Anaconda\n",
    "\n",
    "Realizacja laboratorium wymaga Anacondy ze środowiskami:\n",
    " * tensorflow\n",
    " * tensorflow_gpuenv\n",
    " \n",
    "Różnica pomiędzy nimi polega na wykorzystaniu implementacji biblioteki Tensorflow z NVidia CUDA.\n",
    "\n",
    "Tworzenie środowisk:\n",
    " * wersja z CPU:\n",
    "\n",
    "```\n",
    "conda create -n tensorflow_env tensorflow\n",
    "conda activate tensorflow_env\n",
    "```\n",
    "\n",
    " * wersja z GPU:\n",
    "\n",
    "```\n",
    "conda create -n tensorflow_gpuenv tensorflow-gpu\n",
    "conda activate tensorflow_gpuenv\n",
    "```\n",
    "\n",
    "Za pomocą Anaconda Navigator uruchamiamy Jupyter Notebook w konkretnym środowisku - tylko CPU lub ze wsparciem GPU.\n"
   ]
  },
  {
   "cell_type": "markdown",
   "metadata": {
    "id": "F25OBqfZLwsA"
   },
   "source": [
    "## Sieć neuronowa dla zbioru MNIST"
   ]
  },
  {
   "cell_type": "markdown",
   "metadata": {
    "id": "aTQZi3VcLwsC"
   },
   "source": [
    "Przygotowanie środowiska - należy uruchomić notatnik z obliczeniami wyłącznie na CPU."
   ]
  },
  {
   "cell_type": "code",
   "execution_count": 1,
   "metadata": {
    "colab": {
     "base_uri": "https://localhost:8080/"
    },
    "id": "Qs9wYVcZNY05",
    "outputId": "f7110dcb-161a-4837-c95c-1ce340608e69"
   },
   "outputs": [],
   "source": [
    "try:\n",
    "  %tensorflow_version 2.x\n",
    "except:\n",
    "  pass"
   ]
  },
  {
   "cell_type": "code",
   "execution_count": 2,
   "metadata": {
    "id": "y3MzdLevLwsD"
   },
   "outputs": [
    {
     "name": "stderr",
     "output_type": "stream",
     "text": [
      "2024-03-21 11:46:03.803387: I tensorflow/core/platform/cpu_feature_guard.cc:193] This TensorFlow binary is optimized with oneAPI Deep Neural Network Library (oneDNN) to use the following CPU instructions in performance-critical operations:  AVX2 AVX512F AVX512_VNNI FMA\n",
      "To enable them in other operations, rebuild TensorFlow with the appropriate compiler flags.\n",
      "2024-03-21 11:46:03.910276: I tensorflow/core/util/util.cc:169] oneDNN custom operations are on. You may see slightly different numerical results due to floating-point round-off errors from different computation orders. To turn them off, set the environment variable `TF_ENABLE_ONEDNN_OPTS=0`.\n"
     ]
    }
   ],
   "source": [
    "import numpy as np\n",
    "import matplotlib.pyplot as plt\n",
    "import tensorflow\n",
    "\n",
    "from tensorflow.keras.datasets import mnist\n",
    "from tensorflow.keras.models import Sequential\n",
    "from tensorflow.keras.layers import Dense, Dropout, Activation, Flatten, Conv2D, AveragePooling2D\n",
    "from keras.utils import np_utils\n",
    "\n",
    "plt.rcParams['figure.figsize'] = (7,7) # Make the figures a bit bigger"
   ]
  },
  {
   "cell_type": "code",
   "execution_count": 3,
   "metadata": {
    "colab": {
     "base_uri": "https://localhost:8080/"
    },
    "id": "aM1I_zfvxOKD",
    "outputId": "9da7a28d-c1d3-4925-de60-88279e8d0e8e"
   },
   "outputs": [
    {
     "name": "stdout",
     "output_type": "stream",
     "text": [
      "Num GPUs: 0\n"
     ]
    }
   ],
   "source": [
    "physical_devices = tensorflow.config.list_physical_devices('GPU')\n",
    "print(\"Num GPUs:\", len(physical_devices))"
   ]
  },
  {
   "cell_type": "code",
   "execution_count": 4,
   "metadata": {
    "colab": {
     "base_uri": "https://localhost:8080/"
    },
    "id": "6aDH7dBMLwsY",
    "outputId": "78b2f9ed-34ef-42b6-b162-91ed8814eb68"
   },
   "outputs": [
    {
     "name": "stdout",
     "output_type": "stream",
     "text": [
      "Downloading data from https://storage.googleapis.com/tensorflow/tf-keras-datasets/mnist.npz\n",
      "11490434/11490434 [==============================] - 1s 0us/step\n",
      "X_train original shape (60000, 28, 28)\n",
      "y_train original shape (60000,)\n"
     ]
    }
   ],
   "source": [
    "nb_classes = 10\n",
    "\n",
    "# the data, shuffled and split between tran and test sets\n",
    "(X_train, y_train), (X_test, y_test) = mnist.load_data()\n",
    "print(\"X_train original shape\", X_train.shape)\n",
    "print(\"y_train original shape\", y_train.shape)"
   ]
  },
  {
   "cell_type": "markdown",
   "metadata": {
    "id": "e1Fb4X4sLwsh"
   },
   "source": [
    "Zwizualizuj przykładowe dane."
   ]
  },
  {
   "cell_type": "code",
   "execution_count": 5,
   "metadata": {
    "colab": {
     "base_uri": "https://localhost:8080/",
     "height": 444
    },
    "id": "q741OgE6Lwsi",
    "outputId": "05238f5a-f234-4527-e0bc-cfe10e2ee8ce"
   },
   "outputs": [
    {
     "data": {
      "image/png": "[encoded data removed]",
      "text/plain": [
       "<Figure size 700x700 with 9 Axes>"
      ]
     },
     "metadata": {},
     "output_type": "display_data"
    }
   ],
   "source": [
    "for i in range(9):\n",
    "    plt.subplot(3,3,i+1)\n",
    "    plt.imshow(X_train[i], cmap='gray', interpolation='none')\n",
    "    plt.title(\"Class {}\".format(y_train[i]))"
   ]
  },
  {
   "cell_type": "markdown",
   "metadata": {
    "id": "NuFEHgMhLwsp"
   },
   "source": [
    "Sieć neuronowa przyjmuje na wejściu obrazek z jednym kanałem - poziomem jasności, więc konieczne jest przekształcenie danych wejściowych, aby każdy obraz 28 x 28 stał się macierzą 28 x 28 x 1. \n",
    "\n",
    "Skalujemy również dane wejściowe w zakresie [0–1] zamiast [0–255]"
   ]
  },
  {
   "cell_type": "code",
   "execution_count": 6,
   "metadata": {
    "colab": {
     "base_uri": "https://localhost:8080/"
    },
    "id": "2XwmB8dSLwsq",
    "outputId": "987f3bc1-9c72-47fa-c981-c10272b7645d"
   },
   "outputs": [
    {
     "name": "stdout",
     "output_type": "stream",
     "text": [
      "Training matrix shape (60000, 28, 28, 1)\n",
      "Testing matrix shape (10000, 28, 28, 1)\n"
     ]
    }
   ],
   "source": [
    "X_train = X_train.reshape(60000, 28,28,1) # trzeci wymiar to kanał\n",
    "X_test = X_test.reshape(10000, 28,28,1)\n",
    "\n",
    "X_train = X_train.astype('float32')\n",
    "X_test = X_test.astype('float32')\n",
    "X_train /= 255\n",
    "X_test /= 255\n",
    "print(\"Training matrix shape\", X_train.shape)\n",
    "print(\"Testing matrix shape\", X_test.shape)\n",
    "\n"
   ]
  },
  {
   "cell_type": "markdown",
   "metadata": {
    "id": "hU9F52b4Lwsy"
   },
   "source": [
    "Zmodyfikuj macierze wyjść korzystając z techniki One Hot Encoding, tj.\n",
    "\n",
    "```\n",
    "0 -> [1, 0, 0, 0, 0, 0, 0, 0, 0]\n",
    "1 -> [0, 1, 0, 0, 0, 0, 0, 0, 0]\n",
    "2 -> [0, 0, 1, 0, 0, 0, 0, 0, 0]\n",
    "```\n",
    "itp."
   ]
  },
  {
   "cell_type": "code",
   "execution_count": 7,
   "metadata": {
    "id": "mOEeudBmLwsz"
   },
   "outputs": [],
   "source": [
    "Y_train = np_utils.to_categorical(y_train, num_classes=10)\n",
    "Y_test = np_utils.to_categorical(y_test, num_classes=10)\n"
   ]
  },
  {
   "cell_type": "markdown",
   "metadata": {
    "id": "AM5Kq1eaLws4"
   },
   "source": [
    "#Sieć MLP\n",
    "Zbuduj sieć neuronową. Na potrzeby zajęć sieć będzie posiadała 2 w pełni połączone warstwy. Na wejściu sieci jest macierz z jednym kanałem (28,28,1) dlatego pierwsza warstwa to *Flatten()*."
   ]
  },
  {
   "cell_type": "code",
   "execution_count": 8,
   "metadata": {
    "colab": {
     "base_uri": "https://localhost:8080/"
    },
    "id": "wKreY86SLws5",
    "outputId": "afdb7e5b-a3a8-405a-ed1c-e03aa54da44c"
   },
   "outputs": [
    {
     "name": "stdout",
     "output_type": "stream",
     "text": [
      "Model: \"sequential\"\n",
      "_________________________________________________________________\n",
      " Layer (type)                Output Shape              Param #   \n",
      "=================================================================\n",
      " flatten (Flatten)           (None, 784)               0         \n",
      "                                                                 \n",
      " dense (Dense)               (None, 512)               401920    \n",
      "                                                                 \n",
      " activation (Activation)     (None, 512)               0         \n",
      "                                                                 \n",
      " dropout (Dropout)           (None, 512)               0         \n",
      "                                                                 \n",
      " dense_1 (Dense)             (None, 512)               262656    \n",
      "                                                                 \n",
      " activation_1 (Activation)   (None, 512)               0         \n",
      "                                                                 \n",
      " dropout_1 (Dropout)         (None, 512)               0         \n",
      "                                                                 \n",
      " dense_2 (Dense)             (None, 10)                5130      \n",
      "                                                                 \n",
      " activation_2 (Activation)   (None, 10)                0         \n",
      "                                                                 \n",
      "=================================================================\n",
      "Total params: 669,706\n",
      "Trainable params: 669,706\n",
      "Non-trainable params: 0\n",
      "_________________________________________________________________\n"
     ]
    },
    {
     "name": "stderr",
     "output_type": "stream",
     "text": [
      "2024-03-21 11:46:08.261670: I tensorflow/core/platform/cpu_feature_guard.cc:193] This TensorFlow binary is optimized with oneAPI Deep Neural Network Library (oneDNN) to use the following CPU instructions in performance-critical operations:  AVX2 AVX512F AVX512_VNNI FMA\n",
      "To enable them in other operations, rebuild TensorFlow with the appropriate compiler flags.\n"
     ]
    }
   ],
   "source": [
    "model1 = Sequential()\n",
    "model1.add(Flatten(input_shape=(28,28,)))\n",
    "model1.add(Dense(512, input_shape=(784,)))\n",
    "model1.add(Activation('relu'))\n",
    "model1.add(Dropout(0.2))   # Dropout helps protect the model from memorizing or \"overfitting\" the training data\n",
    "\n",
    "model1.add(Dense(512))\n",
    "model1.add(Activation('relu'))\n",
    "model1.add(Dropout(0.2))\n",
    "\n",
    "model1.add(Dense(10))\n",
    "model1.add(Activation('softmax')) # w celu zapewnienia rozkładu wyjść sumującego się do 1\n",
    "model1.summary()\n",
    "model1.compile(loss='categorical_crossentropy', optimizer='adam', metrics=['accuracy'])"
   ]
  },
  {
   "cell_type": "markdown",
   "metadata": {
    "id": "5IIpzKZJ2gaQ"
   },
   "source": [
    "#Sieć CNN\n",
    "Zbuduj sieć neuronową. Powinna to być sieć LeNet-5 ze zmodyfikowanym rozmiarem wejścia (28,28,1) zamiast (32,32,1)."
   ]
  },
  {
   "cell_type": "code",
   "execution_count": 9,
   "metadata": {
    "id": "CDGMkAkw2jjO"
   },
   "outputs": [],
   "source": [
    "model = Sequential()\n",
    "model.add(Conv2D(filters=6, kernel_size=(3, 3), activation='relu', input_shape=(28,28,1)))\n",
    "model.add(AveragePooling2D())\n",
    "model.add(Conv2D(filters=16, kernel_size=(3, 3), activation='relu'))\n",
    "model.add(AveragePooling2D())\n",
    "model.add(Flatten())\n",
    "model.add(Dense(units=120, activation='relu'))\n",
    "model.add(Dense(units=84, activation='relu'))\n",
    "model.add(Dense(units=10, activation = 'softmax')) "
   ]
  },
  {
   "cell_type": "markdown",
   "metadata": {
    "id": "aWGpp5O1Lws-"
   },
   "source": [
    "#Kompilacja modelu\n",
    "\n",
    "Kolejnym krokiem jest kompilacja modelu. Biblioteka Keras jest wysokopoziomowym API upraszczającym tworzenie i uczenie sieci neuronowych z wykorzystaniem biblitoeki Tensorflow. Podczas kompilacji sieci, biblioteka Keras wymaga określenia funkcji strat oraz algorytmu optymalizującego proces uczenia."
   ]
  },
  {
   "cell_type": "code",
   "execution_count": 10,
   "metadata": {
    "id": "Cpn0-puHLws-"
   },
   "outputs": [],
   "source": [
    "model.compile(loss='categorical_crossentropy', optimizer='adam', metrics=['accuracy'])"
   ]
  },
  {
   "cell_type": "code",
   "execution_count": 11,
   "metadata": {
    "colab": {
     "base_uri": "https://localhost:8080/"
    },
    "id": "MZH1a31GLwtF",
    "outputId": "b4f1b23e-8e1a-4668-98a8-c8e0d785720b"
   },
   "outputs": [
    {
     "name": "stdout",
     "output_type": "stream",
     "text": [
      "Model: \"sequential_1\"\n",
      "_________________________________________________________________\n",
      " Layer (type)                Output Shape              Param #   \n",
      "=================================================================\n",
      " conv2d (Conv2D)             (None, 26, 26, 6)         60        \n",
      "                                                                 \n",
      " average_pooling2d (AverageP  (None, 13, 13, 6)        0         \n",
      " ooling2D)                                                       \n",
      "                                                                 \n",
      " conv2d_1 (Conv2D)           (None, 11, 11, 16)        880       \n",
      "                                                                 \n",
      " average_pooling2d_1 (Averag  (None, 5, 5, 16)         0         \n",
      " ePooling2D)                                                     \n",
      "                                                                 \n",
      " flatten_1 (Flatten)         (None, 400)               0         \n",
      "                                                                 \n",
      " dense_3 (Dense)             (None, 120)               48120     \n",
      "                                                                 \n",
      " dense_4 (Dense)             (None, 84)                10164     \n",
      "                                                                 \n",
      " dense_5 (Dense)             (None, 10)                850       \n",
      "                                                                 \n",
      "=================================================================\n",
      "Total params: 60,074\n",
      "Trainable params: 60,074\n",
      "Non-trainable params: 0\n",
      "_________________________________________________________________\n"
     ]
    }
   ],
   "source": [
    "model.summary()"
   ]
  },
  {
   "cell_type": "markdown",
   "metadata": {
    "id": "oN0iPEysLwtK"
   },
   "source": [
    "Po kompilacji modelu sieci neuronowej można przystąpić do uczenia sieci. Ze względu na fakt, że Jupyter notebook został uruchiomy w środowisku z biblioteką Tensorflow bez wsparcia dla GPU, to obliczenia będa wykonywane tylko i wyłącznie na CPU."
   ]
  },
  {
   "cell_type": "code",
   "execution_count": 12,
   "metadata": {
    "id": "h13u1lcur4wl"
   },
   "outputs": [],
   "source": [
    "import time\n",
    "import keras\n",
    "class TimeHistory(keras.callbacks.Callback):\n",
    "    def on_train_begin(self, logs={}):\n",
    "        self.times = []\n",
    "\n",
    "    def on_epoch_begin(self, batch, logs={}):\n",
    "        self.epoch_time_start = time.time()\n",
    "\n",
    "    def on_epoch_end(self, batch, logs={}):\n",
    "        self.times.append(time.time() - self.epoch_time_start)\n",
    "time_callback = TimeHistory()"
   ]
  },
  {
   "cell_type": "code",
   "execution_count": 13,
   "metadata": {
    "colab": {
     "base_uri": "https://localhost:8080/"
    },
    "id": "2wSXjfOzKDIp",
    "outputId": "16dbe965-950d-4aa0-f363-4056923a42f3"
   },
   "outputs": [
    {
     "name": "stdout",
     "output_type": "stream",
     "text": [
      "Epoch 1/16\n",
      "469/469 [==============================] - 10s 20ms/step - loss: 0.2454 - accuracy: 0.9280 - val_loss: 0.1034 - val_accuracy: 0.9667\n",
      "Epoch 2/16\n",
      "469/469 [==============================] - 9s 19ms/step - loss: 0.1010 - accuracy: 0.9689 - val_loss: 0.0826 - val_accuracy: 0.9745\n",
      "Epoch 3/16\n",
      "469/469 [==============================] - 9s 19ms/step - loss: 0.0712 - accuracy: 0.9774 - val_loss: 0.0692 - val_accuracy: 0.9781\n",
      "Epoch 4/16\n",
      "469/469 [==============================] - 9s 18ms/step - loss: 0.0565 - accuracy: 0.9819 - val_loss: 0.0810 - val_accuracy: 0.9750\n",
      "Epoch 5/16\n",
      "469/469 [==============================] - 9s 19ms/step - loss: 0.0440 - accuracy: 0.9858 - val_loss: 0.0732 - val_accuracy: 0.9783\n",
      "Epoch 6/16\n",
      "469/469 [==============================] - 9s 19ms/step - loss: 0.0391 - accuracy: 0.9869 - val_loss: 0.0692 - val_accuracy: 0.9810\n",
      "Epoch 7/16\n",
      "469/469 [==============================] - 9s 19ms/step - loss: 0.0333 - accuracy: 0.9891 - val_loss: 0.0648 - val_accuracy: 0.9819\n",
      "Epoch 8/16\n",
      "469/469 [==============================] - 9s 19ms/step - loss: 0.0301 - accuracy: 0.9905 - val_loss: 0.0658 - val_accuracy: 0.9839\n",
      "Epoch 9/16\n",
      "469/469 [==============================] - 9s 19ms/step - loss: 0.0289 - accuracy: 0.9901 - val_loss: 0.0783 - val_accuracy: 0.9794\n",
      "Epoch 10/16\n",
      "469/469 [==============================] - 9s 19ms/step - loss: 0.0250 - accuracy: 0.9916 - val_loss: 0.0732 - val_accuracy: 0.9811\n",
      "Epoch 11/16\n",
      "469/469 [==============================] - 9s 18ms/step - loss: 0.0220 - accuracy: 0.9927 - val_loss: 0.0757 - val_accuracy: 0.9807\n",
      "Epoch 12/16\n",
      "469/469 [==============================] - 9s 19ms/step - loss: 0.0244 - accuracy: 0.9920 - val_loss: 0.0692 - val_accuracy: 0.9814\n",
      "Epoch 13/16\n",
      "469/469 [==============================] - 9s 19ms/step - loss: 0.0190 - accuracy: 0.9939 - val_loss: 0.0748 - val_accuracy: 0.9825\n",
      "Epoch 14/16\n",
      "469/469 [==============================] - 9s 19ms/step - loss: 0.0219 - accuracy: 0.9928 - val_loss: 0.0749 - val_accuracy: 0.9811\n",
      "Epoch 15/16\n",
      "469/469 [==============================] - 9s 19ms/step - loss: 0.0169 - accuracy: 0.9944 - val_loss: 0.0712 - val_accuracy: 0.9839\n",
      "Epoch 16/16\n",
      "469/469 [==============================] - 9s 19ms/step - loss: 0.0161 - accuracy: 0.9950 - val_loss: 0.0840 - val_accuracy: 0.9818\n"
     ]
    },
    {
     "data": {
      "text/plain": [
       "<keras.callbacks.History at 0x7f636e3d53f0>"
      ]
     },
     "execution_count": 13,
     "metadata": {},
     "output_type": "execute_result"
    }
   ],
   "source": [
    "model1.fit(X_train, Y_train,\n",
    "          batch_size=128, epochs=16,\n",
    "          verbose=1,\n",
    "          validation_data=(X_test, Y_test), callbacks = time_callback)"
   ]
  },
  {
   "cell_type": "code",
   "execution_count": 14,
   "metadata": {
    "colab": {
     "base_uri": "https://localhost:8080/"
    },
    "id": "MCMf7TCiKtWo",
    "outputId": "0de01607-1b76-4091-8a95-f5b4d1457732"
   },
   "outputs": [
    {
     "name": "stdout",
     "output_type": "stream",
     "text": [
      "[9.670825004577637, 8.917064428329468, 8.974713325500488, 8.625144720077515, 8.854186296463013, 8.801322937011719, 8.728997468948364, 8.973759412765503, 8.839268445968628, 8.92894697189331, 8.631653070449829, 8.904708623886108, 8.970357894897461, 8.75838851928711, 8.973740577697754, 9.031677007675171]\n"
     ]
    }
   ],
   "source": [
    "times_MLP = time_callback.times\n",
    "\n",
    "print(times_MLP)"
   ]
  },
  {
   "cell_type": "code",
   "execution_count": 15,
   "metadata": {
    "colab": {
     "base_uri": "https://localhost:8080/"
    },
    "id": "97euA1BoLwtK",
    "outputId": "622660fa-818b-42e6-f862-a76d68b56128"
   },
   "outputs": [
    {
     "name": "stdout",
     "output_type": "stream",
     "text": [
      "Epoch 1/16\n",
      "469/469 [==============================] - 13s 27ms/step - loss: 0.3590 - accuracy: 0.8994 - val_loss: 0.1198 - val_accuracy: 0.9632\n",
      "Epoch 2/16\n",
      "469/469 [==============================] - 13s 27ms/step - loss: 0.1043 - accuracy: 0.9677 - val_loss: 0.0833 - val_accuracy: 0.9721\n",
      "Epoch 3/16\n",
      "469/469 [==============================] - 12s 27ms/step - loss: 0.0757 - accuracy: 0.9766 - val_loss: 0.0642 - val_accuracy: 0.9799\n",
      "Epoch 4/16\n",
      "469/469 [==============================] - 12s 26ms/step - loss: 0.0616 - accuracy: 0.9808 - val_loss: 0.0536 - val_accuracy: 0.9823\n",
      "Epoch 5/16\n",
      "469/469 [==============================] - 13s 27ms/step - loss: 0.0511 - accuracy: 0.9841 - val_loss: 0.0480 - val_accuracy: 0.9848\n",
      "Epoch 6/16\n",
      "469/469 [==============================] - 12s 26ms/step - loss: 0.0439 - accuracy: 0.9863 - val_loss: 0.0563 - val_accuracy: 0.9811\n",
      "Epoch 7/16\n",
      "469/469 [==============================] - 12s 25ms/step - loss: 0.0373 - accuracy: 0.9877 - val_loss: 0.0371 - val_accuracy: 0.9879\n",
      "Epoch 8/16\n",
      "469/469 [==============================] - 12s 25ms/step - loss: 0.0331 - accuracy: 0.9895 - val_loss: 0.0404 - val_accuracy: 0.9877\n",
      "Epoch 9/16\n",
      "469/469 [==============================] - 12s 25ms/step - loss: 0.0290 - accuracy: 0.9902 - val_loss: 0.0384 - val_accuracy: 0.9868\n",
      "Epoch 10/16\n",
      "469/469 [==============================] - 12s 26ms/step - loss: 0.0255 - accuracy: 0.9921 - val_loss: 0.0430 - val_accuracy: 0.9862\n",
      "Epoch 11/16\n",
      "469/469 [==============================] - 12s 26ms/step - loss: 0.0238 - accuracy: 0.9924 - val_loss: 0.0413 - val_accuracy: 0.9869\n",
      "Epoch 12/16\n",
      "469/469 [==============================] - 12s 26ms/step - loss: 0.0215 - accuracy: 0.9930 - val_loss: 0.0403 - val_accuracy: 0.9880\n",
      "Epoch 13/16\n",
      "469/469 [==============================] - 12s 27ms/step - loss: 0.0193 - accuracy: 0.9937 - val_loss: 0.0399 - val_accuracy: 0.9875\n",
      "Epoch 14/16\n",
      "469/469 [==============================] - 13s 27ms/step - loss: 0.0160 - accuracy: 0.9949 - val_loss: 0.0404 - val_accuracy: 0.9886\n",
      "Epoch 15/16\n",
      "469/469 [==============================] - 13s 27ms/step - loss: 0.0158 - accuracy: 0.9949 - val_loss: 0.0422 - val_accuracy: 0.9864\n",
      "Epoch 16/16\n",
      "469/469 [==============================] - 12s 26ms/step - loss: 0.0148 - accuracy: 0.9952 - val_loss: 0.0422 - val_accuracy: 0.9876\n"
     ]
    },
    {
     "data": {
      "text/plain": [
       "<keras.callbacks.History at 0x7f636e09c910>"
      ]
     },
     "execution_count": 15,
     "metadata": {},
     "output_type": "execute_result"
    }
   ],
   "source": [
    "model.fit(X_train, Y_train,\n",
    "          batch_size=128, epochs=16,\n",
    "          verbose=1,\n",
    "          validation_data=(X_test, Y_test), callbacks = time_callback)"
   ]
  },
  {
   "cell_type": "code",
   "execution_count": 16,
   "metadata": {
    "colab": {
     "base_uri": "https://localhost:8080/"
    },
    "id": "jT9qa296sjL9",
    "outputId": "5c319fbc-f6f8-49e9-8cbc-ebeb87ffb255"
   },
   "outputs": [
    {
     "name": "stdout",
     "output_type": "stream",
     "text": [
      "[13.08630633354187, 12.576303482055664, 12.438867330551147, 12.355318069458008, 12.690701007843018, 12.22447919845581, 11.603691816329956, 11.567623138427734, 11.679056644439697, 12.18515920639038, 12.237246751785278, 12.110662937164307, 12.454173564910889, 12.635124206542969, 12.717634916305542, 12.215355157852173]\n"
     ]
    }
   ],
   "source": [
    "times = time_callback.times\n",
    "\n",
    "print(times)"
   ]
  },
  {
   "cell_type": "markdown",
   "metadata": {
    "id": "QwwGeJ6PLwtp"
   },
   "source": [
    "## Ewaluacja sieci neuronowej dla zbioru MNIST"
   ]
  },
  {
   "cell_type": "code",
   "execution_count": 17,
   "metadata": {
    "colab": {
     "base_uri": "https://localhost:8080/",
     "height": 923
    },
    "id": "W8ZNIBBdLwtr",
    "outputId": "aa25ee7f-8223-46c1-b21d-fedc5522c18b"
   },
   "outputs": [
    {
     "name": "stdout",
     "output_type": "stream",
     "text": [
      "Test score MLP: [0.084037184715271, 0.9818000197410583]\n",
      "Test score CNN: [0.04219649359583855, 0.9876000285148621]\n",
      "313/313 [==============================] - 1s 4ms/step\n"
     ]
    },
    {
     "data": {
      "image/png": "[encoded data removed]",
      "text/plain": [
       "<Figure size 700x700 with 9 Axes>"
      ]
     },
     "metadata": {},
     "output_type": "display_data"
    },
    {
     "data": {
      "image/png": "[encoded data removed]",
      "text/plain": [
       "<Figure size 700x700 with 9 Axes>"
      ]
     },
     "metadata": {},
     "output_type": "display_data"
    }
   ],
   "source": [
    "score_MLP = model1.evaluate(X_test, Y_test,verbose=0)\n",
    "print('Test score MLP:', score_MLP)\n",
    "\n",
    "score = model.evaluate(X_test, Y_test,verbose=0)\n",
    "print('Test score CNN:', score)\n",
    "\n",
    "predicted_classes = np.argmax(model.predict(X_test), axis=-1)\n",
    "correct_indices = np.nonzero(predicted_classes == y_test)[0]\n",
    "incorrect_indices = np.nonzero(predicted_classes != y_test)[0]\n",
    "\n",
    "plt.figure()\n",
    "for i, correct in enumerate(correct_indices[:9]):\n",
    "    plt.subplot(3,3,i+1)\n",
    "    plt.imshow(X_test[correct].reshape(28,28), cmap='gray', interpolation='none')\n",
    "    plt.title(\"Predicted {}, Class {}\".format(predicted_classes[correct], y_test[correct]))\n",
    "    \n",
    "plt.figure()\n",
    "for i, incorrect in enumerate(incorrect_indices[:9]):\n",
    "    plt.subplot(3,3,i+1)\n",
    "    plt.imshow(X_test[incorrect].reshape(28,28), cmap='gray', interpolation='none')\n",
    "    plt.title(\"Predicted {}, Class {}\".format(predicted_classes[incorrect], y_test[incorrect]))"
   ]
  },
  {
   "cell_type": "markdown",
   "metadata": {
    "id": "XT0BYxGwLwtS"
   },
   "source": [
    "## Analiza czasu uczenia sieci z wykorzystaniem CPU oraz przy wsparciu GPU"
   ]
  },
  {
   "cell_type": "markdown",
   "metadata": {
    "id": "jv7kWHYwLwtS"
   },
   "source": [
    "Uzupełnij poniższy fragment kodu wpisując dane dotyczące czasu obliczeń dla każdej z szesnastu epok uczenia sieci neuronowej."
   ]
  },
  {
   "cell_type": "code",
   "execution_count": 18,
   "metadata": {
    "id": "PBhpuE6SLwtT"
   },
   "outputs": [],
   "source": [
    "cpu_epoch_time_MLP = [12.39345932006836, 9.820482730865479, 10.643942594528198, 10.610098838806152, 10.972001075744629, 10.65035891532898, 11.227020978927612, 9.8225736618042, 10.438726902008057, 10.624454498291016, 10.589459896087646, 10.74488115310669, 10.887487888336182, 11.803605556488037, 9.917448997497559, 10.820068597793579]\n",
    "cpu_accuracy_MLP = 0.9828000068664551"
   ]
  },
  {
   "cell_type": "code",
   "execution_count": 19,
   "metadata": {
    "id": "haXeFVEUJaRy"
   },
   "outputs": [],
   "source": [
    "cpu_epoch_time_CNN = [21.53500747680664, 19.371457815170288, 21.234413146972656, 19.158220767974854, 24.009652376174927, 20.346508979797363, 19.213557481765747, 21.65668821334839, 19.173595190048218, 20.524547576904297, 21.849989891052246, 19.065998315811157, 20.29776382446289, 19.029748916625977, 21.565531253814697, 19.105880975723267]\n",
    "cpu_accuracy_CNN = 0.9886999726295471"
   ]
  },
  {
   "cell_type": "markdown",
   "metadata": {
    "id": "rCnXpfgpLwtd"
   },
   "source": [
    "Uaktywnij wsparcie GPU dla obliczeń i uruchom ponownie proces uczenia sieci neuronowej na bazie MNIST i uzupełnij fragment kodu poniżej.\n",
    "\n",
    "W przypadku środowiska Anaconda zamknij środowisko *tensorflow\\_env* i uruchom środowisko *tensorflow\\_gpuenv*. W przypadku Google Colab zmień ustawienia środowiska uruchomieniowego.\n",
    "\n"
   ]
  },
  {
   "cell_type": "code",
   "execution_count": 20,
   "metadata": {
    "id": "r19aSv6jLwte"
   },
   "outputs": [],
   "source": [
    "gpu_epoch_time_MLP = [8.735154151916504, 2.0372767448425293, 1.8737759590148926, 1.8600273132324219, 1.9961867332458496, 2.6846530437469482, 1.9842839241027832, 1.8837194442749023, 1.8799476623535156, 2.0045313835144043, 1.9846949577331543, 2.5624876022338867, 1.9644684791564941, 1.8825299739837646, 1.8757455348968506, 1.9967069625854492]\n",
    "gpu_accuracy_MLP = 0.9837999939918518\n",
    "\n",
    "gpu_epoch_time_CNN = [8.761892318725586, 3.4148616790771484, 2.3940463066101074, 2.4665989875793457, 2.5015578269958496, 2.4673774242401123, 3.1375272274017334, 2.5020689964294434, 2.513460159301758, 2.390751600265503, 2.751474618911743, 2.9789793491363525, 2.5155675411224365, 2.497089147567749, 2.5410566329956055, 2.958786725997925]\n",
    "gpu_accuracy_CNN = 0.9908000230789185"
   ]
  },
  {
   "cell_type": "markdown",
   "metadata": {
    "id": "FgGmLKKDLwtj"
   },
   "source": [
    "Zwizualizuj i przeanalizuj czas uczenia sieci neuronowej z CPU i GPU."
   ]
  },
  {
   "cell_type": "code",
   "execution_count": 21,
   "metadata": {
    "colab": {
     "base_uri": "https://localhost:8080/",
     "height": 430
    },
    "id": "H8AOGoRtLwtj",
    "outputId": "a2659273-4451-485b-9502-0b446ef6c171"
   },
   "outputs": [
    {
     "data": {
      "image/png": "[encoded data removed]",
      "text/plain": [
       "<Figure size 700x700 with 2 Axes>"
      ]
     },
     "metadata": {},
     "output_type": "display_data"
    }
   ],
   "source": [
    "fig, axs = plt.subplots(2)\n",
    "axs[0].boxplot(gpu_epoch_time_CNN)\n",
    "axs[1].boxplot(cpu_epoch_time_CNN)\n",
    "plt.show()"
   ]
  },
  {
   "cell_type": "code",
   "execution_count": 22,
   "metadata": {
    "colab": {
     "base_uri": "https://localhost:8080/",
     "height": 431
    },
    "id": "2xr4fK8tOkX-",
    "outputId": "a512c793-3fcb-49a5-e894-df6e8d05835c"
   },
   "outputs": [
    {
     "data": {
      "image/png": "[encoded data removed]",
      "text/plain": [
       "<Figure size 700x700 with 2 Axes>"
      ]
     },
     "metadata": {},
     "output_type": "display_data"
    }
   ],
   "source": [
    "fig, axs = plt.subplots(2)\n",
    "axs[0].boxplot(gpu_epoch_time_MLP)\n",
    "axs[1].boxplot(cpu_epoch_time_MLP)\n",
    "plt.show()"
   ]
  },
  {
   "cell_type": "markdown",
   "metadata": {
    "id": "t23eG5H2PXiu"
   },
   "source": [
    "**Wnioski**\n",
    "\n",
    "*#TODO Przeanalizuj różnicę pomiędzy czasem obliczeń dla CPU i GPU oraz osiągniętą jakością sieci neuronowej.*\n",
    "\n",
    "Czas obliczeń dla GPU jest znacząco mniejszy, accuracy jednak w tym przypadku jest niższe\n",
    "\n",
    "*#TODO W przypadku korzystania z własnej karty GPU podaj specyfikację techniczą komputera i karty graficznej.*\n",
    "\n"
   ]
  },
  {
   "cell_type": "code",
   "execution_count": null,
   "metadata": {
    "id": "tFinaHqDR6lg"
   },
   "outputs": [],
   "source": []
  }
 ],
 "metadata": {
  "accelerator": "GPU",
  "colab": {
   "provenance": []
  },
  "gpuClass": "standard",
  "kernelspec": {
   "display_name": "Python 3 (ipykernel)",
   "language": "python",
   "name": "python3"
  },
  "language_info": {
   "codemirror_mode": {
    "name": "ipython",
    "version": 3
   },
   "file_extension": ".py",
   "mimetype": "text/x-python",
   "name": "python",
   "nbconvert_exporter": "python",
   "pygments_lexer": "ipython3",
   "version": "3.10.4"
  }
 },
 "nbformat": 4,
 "nbformat_minor": 4
}
